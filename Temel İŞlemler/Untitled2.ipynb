{
 "cells": [
  {
   "cell_type": "code",
   "execution_count": 8,
   "id": "0efbc768",
   "metadata": {},
   "outputs": [
    {
     "name": "stdout",
     "output_type": "stream",
     "text": [
      "bir sayı giriniz25\n"
     ]
    },
    {
     "data": {
      "text/plain": [
       "'25'"
      ]
     },
     "execution_count": 8,
     "metadata": {},
     "output_type": "execute_result"
    }
   ],
   "source": [
    "input(\"bir sayı giriniz\")"
   ]
  },
  {
   "cell_type": "markdown",
   "id": "ae426a32",
   "metadata": {},
   "source": [
    "kullanıcıdan aldığımız değeri input() fonksiyonu yoluyla şu şekilde elde edebiliriz."
   ]
  },
  {
   "cell_type": "code",
   "execution_count": 10,
   "id": "035e4978",
   "metadata": {},
   "outputs": [
    {
     "name": "stdout",
     "output_type": "stream",
     "text": [
      "birinci sınav:55\n",
      "ikinci sınav:60\n",
      "üçüncü sınav:90\n",
      "toplamları: 205\n"
     ]
    }
   ],
   "source": [
    "a= int(input(\"birinci sınav:\"))\n",
    "b=int(input(\"ikinci sınav:\"))\n",
    "c=int(input(\"üçüncü sınav:\"))\n",
    "print(\"toplamları:\" ,a+b+c)"
   ]
  },
  {
   "cell_type": "code",
   "execution_count": 12,
   "id": "074ad5fd",
   "metadata": {},
   "outputs": [
    {
     "name": "stdout",
     "output_type": "stream",
     "text": [
      "merhaba\n",
      "Nasılsın\n",
      "İyi misin\n"
     ]
    }
   ],
   "source": [
    "print(\"merhaba\\nNasılsın\\nİyi misin\")"
   ]
  },
  {
   "cell_type": "code",
   "execution_count": 13,
   "id": "f39f88fc",
   "metadata": {},
   "outputs": [
    {
     "name": "stdout",
     "output_type": "stream",
     "text": [
      "Selam\n",
      "Gençler\n"
     ]
    }
   ],
   "source": [
    "print(\"Selam\\nGençler\")"
   ]
  },
  {
   "cell_type": "code",
   "execution_count": null,
   "id": "2178c958",
   "metadata": {},
   "outputs": [],
   "source": []
  }
 ],
 "metadata": {
  "kernelspec": {
   "display_name": "Python 3 (ipykernel)",
   "language": "python",
   "name": "python3"
  },
  "language_info": {
   "codemirror_mode": {
    "name": "ipython",
    "version": 3
   },
   "file_extension": ".py",
   "mimetype": "text/x-python",
   "name": "python",
   "nbconvert_exporter": "python",
   "pygments_lexer": "ipython3",
   "version": "3.9.13"
  }
 },
 "nbformat": 4,
 "nbformat_minor": 5
}
