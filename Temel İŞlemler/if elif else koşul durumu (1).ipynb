{
 "cells": [
  {
   "cell_type": "code",
   "execution_count": 1,
   "id": "e86e38aa",
   "metadata": {},
   "outputs": [
    {
     "name": "stdout",
     "output_type": "stream",
     "text": [
      "Bir mevsim girinizYaz\n",
      "Yaz ayları: Haziran, Temmuz, Ağustos\n"
     ]
    }
   ],
   "source": [
    "mevsim = str(input(\"Bir mevsim giriniz\"))\n",
    "if mevsim ==\"Kış\":\n",
    "    print(\"Kış ayları: Aralık, Ocak, Şubat\")\n",
    "elif mevsim ==\"İlkbahar\":\n",
    "    print(\"İlkbahar ayları: Mart, Nisan, Mayıs\")\n",
    "elif mevsim ==\"Yaz\":\n",
    "    print(\"Yaz ayları: Haziran, Temmuz, Ağustos\") \n",
    "elif mevsim ==\"Sonbahar\":\n",
    "    print(\"Sonbahar ayları: Eylül, Ekim, Kasım\")\n",
    "else:\n",
    "    print(\"Mevsim adını kontrol ediniz.\")"
   ]
  },
  {
   "cell_type": "code",
   "execution_count": 2,
   "id": "73a71ad1",
   "metadata": {},
   "outputs": [
    {
     "name": "stdout",
     "output_type": "stream",
     "text": [
      "işlem seçiniz1\n",
      "1.işlem seçildi.\n"
     ]
    }
   ],
   "source": [
    "işlem = int(input(\"işlem seçiniz\")) # 3 tane işlemimiz olsun.\n",
    "\n",
    "if işlem == 1:\n",
    "    print(\"1.işlem seçildi.\")\n",
    "elif işlem == 2:\n",
    "    print(\"2.işlem seçildi.\")\n",
    "elif işlem == 2:\n",
    "    print(\"3.işlem seçildi.\")\n",
    "else:\n",
    "    print(\"Geçersiz işlem.\")"
   ]
  },
  {
   "cell_type": "code",
   "execution_count": null,
   "id": "06cb10d6",
   "metadata": {},
   "outputs": [],
   "source": []
  }
 ],
 "metadata": {
  "kernelspec": {
   "display_name": "Python 3 (ipykernel)",
   "language": "python",
   "name": "python3"
  },
  "language_info": {
   "codemirror_mode": {
    "name": "ipython",
    "version": 3
   },
   "file_extension": ".py",
   "mimetype": "text/x-python",
   "name": "python",
   "nbconvert_exporter": "python",
   "pygments_lexer": "ipython3",
   "version": "3.9.13"
  }
 },
 "nbformat": 4,
 "nbformat_minor": 5
}
