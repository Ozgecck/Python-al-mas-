{
 "cells": [
  {
   "cell_type": "code",
   "execution_count": 1,
   "id": "adb1d9d9",
   "metadata": {},
   "outputs": [
    {
     "name": "stdout",
     "output_type": "stream",
     "text": [
      "merhaba\n",
      "Nasılsın\n",
      "İyi misin\n"
     ]
    }
   ],
   "source": [
    "print(\"merhaba\\nNasılsın\\nİyi misin\")"
   ]
  },
  {
   "cell_type": "code",
   "execution_count": 2,
   "id": "354b7c89",
   "metadata": {},
   "outputs": [
    {
     "name": "stdout",
     "output_type": "stream",
     "text": [
      "Selam\n",
      "Gençler\n"
     ]
    }
   ],
   "source": [
    "print(\"Selam\\nGençler\")"
   ]
  },
  {
   "cell_type": "markdown",
   "id": "cbc2b877",
   "metadata": {},
   "source": [
    "\\t karaktei bir tab boşluk bırakır"
   ]
  },
  {
   "cell_type": "code",
   "execution_count": 3,
   "id": "1b06d3b5",
   "metadata": {},
   "outputs": [
    {
     "name": "stdout",
     "output_type": "stream",
     "text": [
      "ocak\tMart\tNisan\tMayıs\n"
     ]
    }
   ],
   "source": [
    "print(\"ocak\\tMart\\tNisan\\tMayıs\")"
   ]
  },
  {
   "cell_type": "code",
   "execution_count": 5,
   "id": "b61001d3",
   "metadata": {},
   "outputs": [
    {
     "name": "stdout",
     "output_type": "stream",
     "text": [
      "pztsi\tSalı\n"
     ]
    }
   ],
   "source": [
    "print(\"pztsi\\tSalı\")"
   ]
  },
  {
   "cell_type": "code",
   "execution_count": 11,
   "id": "6929485e",
   "metadata": {},
   "outputs": [
    {
     "name": "stdout",
     "output_type": "stream",
     "text": [
      "<class 'int'>\n"
     ]
    }
   ],
   "source": [
    "# integer (tamsayı) türü\n",
    "a = 65\n",
    "print(type(a))"
   ]
  },
  {
   "cell_type": "code",
   "execution_count": 13,
   "id": "3352bed7",
   "metadata": {},
   "outputs": [
    {
     "name": "stdout",
     "output_type": "stream",
     "text": [
      "<class 'float'>\n"
     ]
    }
   ],
   "source": [
    "# Float (ondalık)\n",
    "a=5.25\n",
    "print(type(a))"
   ]
  },
  {
   "cell_type": "code",
   "execution_count": 14,
   "id": "ab07d7e6",
   "metadata": {},
   "outputs": [
    {
     "name": "stdout",
     "output_type": "stream",
     "text": [
      "3 4 5 6 7 8 9\n"
     ]
    }
   ],
   "source": [
    "print(3,4,5,6,7,8,9)"
   ]
  },
  {
   "cell_type": "code",
   "execution_count": 15,
   "id": "978af0b3",
   "metadata": {},
   "outputs": [
    {
     "name": "stdout",
     "output_type": "stream",
     "text": [
      "3/4/5/6/7/8/9\n"
     ]
    }
   ],
   "source": [
    "# sep parametresi sayesinde değerlerin arasına nokta konuyor.\n",
    "print(3,4,5,6,7,8,9,sep = \"/\")"
   ]
  },
  {
   "cell_type": "code",
   "execution_count": 17,
   "id": "c38a1cfa",
   "metadata": {},
   "outputs": [
    {
     "name": "stdout",
     "output_type": "stream",
     "text": [
      "mustafa\n",
      "Murat\n",
      "Coşkun\n"
     ]
    }
   ],
   "source": [
    "print(\"mustafa\",\"Murat\",\"Coşkun\",sep = \"\\n\")"
   ]
  },
  {
   "cell_type": "code",
   "execution_count": 21,
   "id": "b94b662a",
   "metadata": {},
   "outputs": [
    {
     "ename": "SyntaxError",
     "evalue": "EOL while scanning string literal (3747676492.py, line 1)",
     "output_type": "error",
     "traceback": [
      "\u001b[1;36m  File \u001b[1;32m\"C:\\Users\\BT-101\\AppData\\Local\\Temp\\ipykernel_1564\\3747676492.py\"\u001b[1;36m, line \u001b[1;32m1\u001b[0m\n\u001b[1;33m    print(\"06\",\"04\",\"2015\",sep = \"\\\")\u001b[0m\n\u001b[1;37m                                     ^\u001b[0m\n\u001b[1;31mSyntaxError\u001b[0m\u001b[1;31m:\u001b[0m EOL while scanning string literal\n"
     ]
    }
   ],
   "source": [
    "print(\"06\",\"04\",\"2015\",sep = \"\\\")"
   ]
  },
  {
   "cell_type": "code",
   "execution_count": 25,
   "id": "468faac4",
   "metadata": {},
   "outputs": [
    {
     "name": "stdout",
     "output_type": "stream",
     "text": [
      "P y t h o n\n"
     ]
    }
   ],
   "source": [
    "print(*\"Python\")"
   ]
  },
  {
   "cell_type": "code",
   "execution_count": 29,
   "id": "cff2b3bf",
   "metadata": {},
   "outputs": [
    {
     "name": "stdout",
     "output_type": "stream",
     "text": [
      "p\n",
      "y\n",
      "t\n",
      "h\n",
      "o\n",
      "n\n"
     ]
    }
   ],
   "source": [
    "print(*\"python\",sep = \"\\n\")"
   ]
  },
  {
   "cell_type": "code",
   "execution_count": 30,
   "id": "d99a6893",
   "metadata": {},
   "outputs": [
    {
     "name": "stdout",
     "output_type": "stream",
     "text": [
      "T.B.M.M\n"
     ]
    }
   ],
   "source": [
    "print(*\"TBMM\",sep=\".\")"
   ]
  },
  {
   "cell_type": "code",
   "execution_count": 31,
   "id": "a855faea",
   "metadata": {},
   "outputs": [
    {
     "name": "stdout",
     "output_type": "stream",
     "text": [
      "<built-in method format of str object at 0x000002F11849C930>\n"
     ]
    }
   ],
   "source": [
    "a=3\n",
    "b=4\n",
    "print(\"{} + {} 'nin toplamı {}'dır\".format)"
   ]
  },
  {
   "cell_type": "code",
   "execution_count": 32,
   "id": "23866143",
   "metadata": {},
   "outputs": [
    {
     "data": {
      "text/plain": [
       "43.0"
      ]
     },
     "execution_count": 32,
     "metadata": {},
     "output_type": "execute_result"
    }
   ],
   "source": [
    "a = 43 \n",
    "float(a)"
   ]
  },
  {
   "cell_type": "code",
   "execution_count": 33,
   "id": "867eb87a",
   "metadata": {},
   "outputs": [
    {
     "data": {
      "text/plain": [
       "-1.0"
      ]
     },
     "execution_count": 33,
     "metadata": {},
     "output_type": "execute_result"
    }
   ],
   "source": [
    "float(-1)"
   ]
  },
  {
   "cell_type": "code",
   "execution_count": 34,
   "id": "9a093308",
   "metadata": {},
   "outputs": [
    {
     "data": {
      "text/plain": [
       "9.0"
      ]
     },
     "execution_count": 34,
     "metadata": {},
     "output_type": "execute_result"
    }
   ],
   "source": [
    "float(9)"
   ]
  },
  {
   "cell_type": "code",
   "execution_count": 35,
   "id": "115a92b4",
   "metadata": {},
   "outputs": [
    {
     "data": {
      "text/plain": [
       "'32324324'"
      ]
     },
     "execution_count": 35,
     "metadata": {},
     "output_type": "execute_result"
    }
   ],
   "source": [
    "a = 32324324\n",
    "b = str(a)\n",
    "b"
   ]
  },
  {
   "cell_type": "code",
   "execution_count": 36,
   "id": "2a2d315a",
   "metadata": {},
   "outputs": [
    {
     "data": {
      "text/plain": [
       "8"
      ]
     },
     "execution_count": 36,
     "metadata": {},
     "output_type": "execute_result"
    }
   ],
   "source": [
    "len(b)"
   ]
  },
  {
   "cell_type": "code",
   "execution_count": 37,
   "id": "82f5190a",
   "metadata": {},
   "outputs": [
    {
     "data": {
      "text/plain": [
       "'3.14343'"
      ]
     },
     "execution_count": 37,
     "metadata": {},
     "output_type": "execute_result"
    }
   ],
   "source": [
    "t = 3.14343\n",
    "y = str(t)\n",
    "y"
   ]
  },
  {
   "cell_type": "code",
   "execution_count": null,
   "id": "0edb87dd",
   "metadata": {},
   "outputs": [],
   "source": []
  }
 ],
 "metadata": {
  "kernelspec": {
   "display_name": "Python 3 (ipykernel)",
   "language": "python",
   "name": "python3"
  },
  "language_info": {
   "codemirror_mode": {
    "name": "ipython",
    "version": 3
   },
   "file_extension": ".py",
   "mimetype": "text/x-python",
   "name": "python",
   "nbconvert_exporter": "python",
   "pygments_lexer": "ipython3",
   "version": "3.9.13"
  }
 },
 "nbformat": 4,
 "nbformat_minor": 5
}
