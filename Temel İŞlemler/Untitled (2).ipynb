{
 "cells": [
  {
   "cell_type": "markdown",
   "id": "28c1f271",
   "metadata": {},
   "source": [
    "## LİSTELER"
   ]
  },
  {
   "cell_type": "markdown",
   "id": "75f3de72",
   "metadata": {},
   "source": [
    "Bu bölümde apacağımız İşlemler\n",
    "1. Lİste oluşturma\n",
    "2. İndeksleme ve parçalama\n",
    "3. Temel liste metotları ve işlemleri\n",
    "4. İç içe listeler"
   ]
  },
  {
   "cell_type": "markdown",
   "id": "26472988",
   "metadata": {},
   "source": [
    "## Liste Oluşturma"
   ]
  },
  {
   "cell_type": "markdown",
   "id": "95b6e190",
   "metadata": {},
   "source": [
    "Listeler bir [] köşeli parantez içine veriler veya değerler konarak oluşturulabilir."
   ]
  },
  {
   "cell_type": "code",
   "execution_count": 7,
   "id": "a46bf2dd",
   "metadata": {},
   "outputs": [
    {
     "data": {
      "text/plain": [
       "['elma', 'Karpuz', 'Kiraz']"
      ]
     },
     "execution_count": 7,
     "metadata": {},
     "output_type": "execute_result"
    }
   ],
   "source": [
    "meyveler = [\"elma\", \"Karpuz\", \"Kiraz\"]\n",
    "meyveler"
   ]
  },
  {
   "cell_type": "code",
   "execution_count": 4,
   "id": "6ac70c87",
   "metadata": {},
   "outputs": [
    {
     "data": {
      "text/plain": [
       "(3, 4, 5, 6)"
      ]
     },
     "execution_count": 4,
     "metadata": {},
     "output_type": "execute_result"
    }
   ],
   "source": [
    "3, 4, 5, 6"
   ]
  },
  {
   "cell_type": "code",
   "execution_count": 14,
   "id": "12ca6fe4",
   "metadata": {},
   "outputs": [
    {
     "data": {
      "text/plain": [
       "[3, 4, 5]"
      ]
     },
     "execution_count": 14,
     "metadata": {},
     "output_type": "execute_result"
    }
   ],
   "source": [
    "ArdisikSayılar = [3, 4, 5]\n",
    "ArdisikSayılar"
   ]
  },
  {
   "cell_type": "code",
   "execution_count": 15,
   "id": "559c9b63",
   "metadata": {},
   "outputs": [
    {
     "data": {
      "text/plain": [
       "['m', 'e', 'r', 'h', 'a', 'b', 'a']"
      ]
     },
     "execution_count": 15,
     "metadata": {},
     "output_type": "execute_result"
    }
   ],
   "source": [
    "s= \"merhaba\"\n",
    "İst= list(s)\n",
    "İst"
   ]
  },
  {
   "cell_type": "code",
   "execution_count": 18,
   "id": "aa6e3db3",
   "metadata": {},
   "outputs": [
    {
     "data": {
      "text/plain": [
       "10"
      ]
     },
     "execution_count": 18,
     "metadata": {},
     "output_type": "execute_result"
    }
   ],
   "source": [
    "# len komutunun kullanımı eleman sayısını verir.\n",
    "liste3 = [3,4,5,6,7,8,9,0,0,0]\n",
    "len(liste3)"
   ]
  },
  {
   "cell_type": "code",
   "execution_count": 19,
   "id": "07c4f3a0",
   "metadata": {},
   "outputs": [
    {
     "data": {
      "text/plain": [
       "20"
      ]
     },
     "execution_count": 19,
     "metadata": {},
     "output_type": "execute_result"
    }
   ],
   "source": [
    "liste = [4,8,12,16,20,21]\n",
    "liste[4]"
   ]
  },
  {
   "cell_type": "code",
   "execution_count": 22,
   "id": "34622416",
   "metadata": {},
   "outputs": [
    {
     "data": {
      "text/plain": [
       "0"
      ]
     },
     "execution_count": 22,
     "metadata": {},
     "output_type": "execute_result"
    }
   ],
   "source": [
    "# sonuncu eleman\n",
    "liste3[-1]"
   ]
  },
  {
   "cell_type": "code",
   "execution_count": 24,
   "id": "6c5de1f2",
   "metadata": {},
   "outputs": [
    {
     "data": {
      "text/plain": [
       "[4, 8, 12, 16]"
      ]
     },
     "execution_count": 24,
     "metadata": {},
     "output_type": "execute_result"
    }
   ],
   "source": [
    "# Baştan 4.indekse kadar (dahil değil)\n",
    "liste[:4]"
   ]
  },
  {
   "cell_type": "code",
   "execution_count": null,
   "id": "a4d06892",
   "metadata": {},
   "outputs": [],
   "source": []
  }
 ],
 "metadata": {
  "kernelspec": {
   "display_name": "Python 3 (ipykernel)",
   "language": "python",
   "name": "python3"
  },
  "language_info": {
   "codemirror_mode": {
    "name": "ipython",
    "version": 3
   },
   "file_extension": ".py",
   "mimetype": "text/x-python",
   "name": "python",
   "nbconvert_exporter": "python",
   "pygments_lexer": "ipython3",
   "version": "3.9.13"
  }
 },
 "nbformat": 4,
 "nbformat_minor": 5
}
