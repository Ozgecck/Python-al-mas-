{
 "cells": [
  {
   "cell_type": "code",
   "execution_count": 1,
   "id": "404f778d",
   "metadata": {},
   "outputs": [
    {
     "name": "stdout",
     "output_type": "stream",
     "text": [
      "yaşınızı giriniz17\n",
      "bu mekana giremezsiniz\n"
     ]
    }
   ],
   "source": [
    "# 18 yaş kontrolu\n",
    "yaş = int(input(\"yaşınızı giriniz\"))\n",
    "if(yaş<18):\n",
    "    # if bloğu - Girinti ile sağlanıyor.\n",
    "    print(\"bu mekana giremezsiniz\")\n",
    "  "
   ]
  },
  {
   "cell_type": "code",
   "execution_count": 6,
   "id": "d10834ce",
   "metadata": {},
   "outputs": [
    {
     "name": "stdout",
     "output_type": "stream",
     "text": [
      "yaşınızı giriniz:34\n"
     ]
    }
   ],
   "source": [
    "# 18 yaş kontrolü\n",
    "yaş = int(input(\"yaşınızı giriniz:\"))\n",
    "if (yaş < 18):\n",
    "     # if bloğu - Girinti ile sağlanıyor.\n",
    "    print(\"bu mekana giremezsiniz\")\n",
    "    "
   ]
  },
  {
   "cell_type": "code",
   "execution_count": 8,
   "id": "ae149e51",
   "metadata": {},
   "outputs": [
    {
     "name": "stdout",
     "output_type": "stream",
     "text": [
      "yaşınızı giriniz15\n",
      "ehliyet kursuna kayıt olamazsınız\n"
     ]
    }
   ],
   "source": [
    "yaş =int(input(\"yaşınızı giriniz\"))\n",
    "if (yaş > 18):\n",
    "    print(\"ehliyet kursuna kayıt olabilirsiniz\")\n",
    "if(yaş<18):\n",
    "    print(\"ehliyet kursuna kayıt olamazsınız\")"
   ]
  },
  {
   "cell_type": "code",
   "execution_count": 9,
   "id": "849793c9",
   "metadata": {},
   "outputs": [
    {
     "name": "stdout",
     "output_type": "stream",
     "text": [
      "yaşınızı giriniz25\n",
      "ehliyet kursuna kayıt olabilirsiniz\n"
     ]
    }
   ],
   "source": [
    "yaş =int(input(\"yaşınızı giriniz\"))\n",
    "if (yaş > 18):\n",
    "    print(\"ehliyet kursuna kayıt olabilirsiniz\")\n",
    "if(yaş<18):\n",
    "    print(\"ehliyet kursuna kayıt olamazsınız\")"
   ]
  },
  {
   "cell_type": "code",
   "execution_count": 10,
   "id": "08e41a17",
   "metadata": {},
   "outputs": [
    {
     "name": "stdout",
     "output_type": "stream",
     "text": [
      "yaşınızı giriniz25\n",
      "mekana hoşgeldiniz.\n"
     ]
    }
   ],
   "source": [
    "# 18 yaş kontrolu\n",
    "yaş = int(input(\"yaşınızı giriniz\"))\n",
    "if(yaş<18):\n",
    "    # if bloğu - Girinti ile sağlanıyor.\n",
    "    print(\"bu mekana giremezsiniz\")\n",
    "else:\n",
    "    # else bloğu - if koşulu sağlamazsa çalışacak.\n",
    "    print(\"mekana hoşgeldiniz.\")"
   ]
  },
  {
   "cell_type": "code",
   "execution_count": 11,
   "id": "d019179d",
   "metadata": {},
   "outputs": [
    {
     "name": "stdout",
     "output_type": "stream",
     "text": [
      "yaşınızı giriniz17\n",
      "bu mekana giremezsiniz\n"
     ]
    }
   ],
   "source": [
    "# 18 yaş kontrolu\n",
    "yaş = int(input(\"yaşınızı giriniz\"))\n",
    "if(yaş<18):\n",
    "    # if bloğu - Girinti ile sağlanıyor.\n",
    "    print(\"bu mekana giremezsiniz\")\n",
    "else:\n",
    "    # else bloğu - if koşulu sağlamazsa çalışacak.\n",
    "    print(\"mekana hoşgeldiniz.\")"
   ]
  },
  {
   "cell_type": "code",
   "execution_count": null,
   "id": "e127bb9c",
   "metadata": {},
   "outputs": [],
   "source": []
  }
 ],
 "metadata": {
  "kernelspec": {
   "display_name": "Python 3 (ipykernel)",
   "language": "python",
   "name": "python3"
  },
  "language_info": {
   "codemirror_mode": {
    "name": "ipython",
    "version": 3
   },
   "file_extension": ".py",
   "mimetype": "text/x-python",
   "name": "python",
   "nbconvert_exporter": "python",
   "pygments_lexer": "ipython3",
   "version": "3.9.13"
  }
 },
 "nbformat": 4,
 "nbformat_minor": 5
}
