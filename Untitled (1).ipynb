{
  "metadata": {
    "language_info": {
      "codemirror_mode": {
        "name": "python",
        "version": 3
      },
      "file_extension": ".py",
      "mimetype": "text/x-python",
      "name": "python",
      "nbconvert_exporter": "python",
      "pygments_lexer": "ipython3",
      "version": "3.8"
    },
    "kernelspec": {
      "name": "python",
      "display_name": "Python (Pyodide)",
      "language": "python"
    }
  },
  "nbformat_minor": 4,
  "nbformat": 4,
  "cells": [
    {
      "cell_type": "markdown",
      "source": "# MERHABA PYTHON",
      "metadata": {}
    },
    {
      "cell_type": "markdown",
      "source": "# Python İle Matematiksel İşlemler ",
      "metadata": {}
    },
    {
      "cell_type": "markdown",
      "source": "## 1. Toplama İşlemi",
      "metadata": {}
    },
    {
      "cell_type": "markdown",
      "source": "Python matematiksel işlemlerim çok hızlı bir şekilde yapabilen bir yazılım dilidir.",
      "metadata": {}
    },
    {
      "cell_type": "markdown",
      "source": "a=16\nb=24\na+b",
      "metadata": {}
    },
    {
      "cell_type": "markdown",
      "source": "## 2. Çıkarma İşlemi",
      "metadata": {}
    },
    {
      "cell_type": "markdown",
      "source": "python da çıkarma işlemi şu şekilde yapılabilmektedir.",
      "metadata": {}
    },
    {
      "cell_type": "code",
      "source": "a= 17\nb=25\nc=6\na-b-c",
      "metadata": {
        "trusted": true
      },
      "execution_count": 1,
      "outputs": [
        {
          "execution_count": 1,
          "output_type": "execute_result",
          "data": {
            "text/plain": "-14"
          },
          "metadata": {}
        }
      ]
    },
    {
      "cell_type": "markdown",
      "source": "## 3. Tamsayı Bölmesi",
      "metadata": {}
    },
    {
      "cell_type": "markdown",
      "source": "Bu operatör bir sayının ",
      "metadata": {}
    },
    {
      "cell_type": "code",
      "source": "4//2",
      "metadata": {
        "trusted": true
      },
      "execution_count": 2,
      "outputs": [
        {
          "execution_count": 2,
          "output_type": "execute_result",
          "data": {
            "text/plain": "2"
          },
          "metadata": {}
        }
      ]
    },
    {
      "cell_type": "markdown",
      "source": "## 4. Kalanı Bulma (%)",
      "metadata": {}
    },
    {
      "cell_type": "markdown",
      "source": "Bir sayının başka bier sayıya bölümünden kalan sonucu bulmamızı sağlar.",
      "metadata": {}
    },
    {
      "cell_type": "code",
      "source": "10 % 3",
      "metadata": {
        "trusted": true
      },
      "execution_count": 3,
      "outputs": [
        {
          "execution_count": 3,
          "output_type": "execute_result",
          "data": {
            "text/plain": "1"
          },
          "metadata": {}
        }
      ]
    },
    {
      "cell_type": "markdown",
      "source": "## 5. Üs Bulma (**) ",
      "metadata": {}
    },
    {
      "cell_type": "code",
      "source": "4 ** 3",
      "metadata": {
        "trusted": true
      },
      "execution_count": 4,
      "outputs": [
        {
          "execution_count": 4,
          "output_type": "execute_result",
          "data": {
            "text/plain": "64"
          },
          "metadata": {}
        }
      ]
    },
    {
      "cell_type": "code",
      "source": "3.14 ** 3",
      "metadata": {
        "trusted": true
      },
      "execution_count": 5,
      "outputs": [
        {
          "execution_count": 5,
          "output_type": "execute_result",
          "data": {
            "text/plain": "30.959144000000002"
          },
          "metadata": {}
        }
      ]
    },
    {
      "cell_type": "markdown",
      "source": "## İşaret Değiştirme (-)",
      "metadata": {}
    },
    {
      "cell_type": "code",
      "source": "a = 4 \n-a",
      "metadata": {
        "trusted": true
      },
      "execution_count": 6,
      "outputs": [
        {
          "execution_count": 6,
          "output_type": "execute_result",
          "data": {
            "text/plain": "-4"
          },
          "metadata": {}
        }
      ]
    },
    {
      "cell_type": "code",
      "source": "b = -13\n-b",
      "metadata": {
        "trusted": true
      },
      "execution_count": 7,
      "outputs": [
        {
          "execution_count": 7,
          "output_type": "execute_result",
          "data": {
            "text/plain": "13"
          },
          "metadata": {}
        }
      ]
    },
    {
      "cell_type": "code",
      "source": "8 +((4*3)/2) -18 ",
      "metadata": {
        "trusted": true
      },
      "execution_count": 8,
      "outputs": [
        {
          "execution_count": 8,
          "output_type": "execute_result",
          "data": {
            "text/plain": "-4.0"
          },
          "metadata": {}
        }
      ]
    },
    {
      "cell_type": "code",
      "source": "",
      "metadata": {},
      "execution_count": null,
      "outputs": []
    },
    {
      "cell_type": "code",
      "source": "",
      "metadata": {},
      "execution_count": null,
      "outputs": []
    },
    {
      "cell_type": "code",
      "source": "",
      "metadata": {},
      "execution_count": null,
      "outputs": []
    }
  ]
}